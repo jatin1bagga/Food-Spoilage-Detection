{
 "cells": [
  {
   "cell_type": "code",
   "execution_count": 1,
   "id": "53e0597c",
   "metadata": {},
   "outputs": [
    {
     "name": "stdout",
     "output_type": "stream",
     "text": [
      "Using device: cuda\n"
     ]
    }
   ],
   "source": [
    "# STEP 1: Import Libraries\n",
    "import torch\n",
    "import torch.nn as nn\n",
    "import torch.optim as optim\n",
    "from torchvision import datasets, transforms, models\n",
    "from torch.utils.data import DataLoader, random_split\n",
    "import matplotlib.pyplot as plt\n",
    "import time\n",
    "\n",
    "# STEP 2: Setup GPU & Speed Boost\n",
    "torch.backends.cudnn.benchmark = True\n",
    "device = torch.device(\"cuda\" if torch.cuda.is_available() else \"cpu\")\n",
    "print(\"Using device:\", device)\n"
   ]
  },
  {
   "cell_type": "code",
   "execution_count": 2,
   "id": "3dba2dc1",
   "metadata": {},
   "outputs": [],
   "source": [
    "# STEP 3: Transforms (Augmentation + Normalization)\n",
    "train_transform = transforms.Compose([\n",
    "    transforms.Resize((128, 128)),\n",
    "    transforms.RandomHorizontalFlip(),\n",
    "    transforms.RandomRotation(15),\n",
    "    transforms.ColorJitter(brightness=0.3, contrast=0.3),\n",
    "    transforms.ToTensor(),\n",
    "])\n",
    "\n",
    "val_transform = transforms.Compose([\n",
    "    transforms.Resize((128, 128)),\n",
    "    transforms.ToTensor(),\n",
    "])\n"
   ]
  },
  {
   "cell_type": "code",
   "execution_count": 7,
   "id": "8cc98243",
   "metadata": {},
   "outputs": [],
   "source": [
    "# STEP 4: Dataset (separate train and test folders)\n",
    "train_dir = \"Dataset/Training\"\n",
    "test_dir = \"Dataset/Test\"\n",
    "\n",
    "train_dataset = datasets.ImageFolder(root=train_dir, transform=train_transform)\n",
    "val_dataset = datasets.ImageFolder(root=test_dir, transform=val_transform)\n"
   ]
  },
  {
   "cell_type": "code",
   "execution_count": 8,
   "id": "dd2081fa",
   "metadata": {},
   "outputs": [],
   "source": [
    "# STEP 5: Dataloaders\n",
    "train_loader = DataLoader(train_dataset, batch_size=32, shuffle=True, num_workers=4, pin_memory=True)\n",
    "val_loader = DataLoader(val_dataset, batch_size=32, shuffle=False, num_workers=4, pin_memory=True)\n"
   ]
  },
  {
   "cell_type": "code",
   "execution_count": 9,
   "id": "2241fb6d",
   "metadata": {},
   "outputs": [
    {
     "name": "stderr",
     "output_type": "stream",
     "text": [
      "c:\\Users\\Jatin bagga\\Desktop\\FOOD_SPOILAGE_IR\\food\\Lib\\site-packages\\torchvision\\models\\_utils.py:208: UserWarning: The parameter 'pretrained' is deprecated since 0.13 and may be removed in the future, please use 'weights' instead.\n",
      "  warnings.warn(\n",
      "c:\\Users\\Jatin bagga\\Desktop\\FOOD_SPOILAGE_IR\\food\\Lib\\site-packages\\torchvision\\models\\_utils.py:223: UserWarning: Arguments other than a weight enum or `None` for 'weights' are deprecated since 0.13 and may be removed in the future. The current behavior is equivalent to passing `weights=ResNet18_Weights.IMAGENET1K_V1`. You can also use `weights=ResNet18_Weights.DEFAULT` to get the most up-to-date weights.\n",
      "  warnings.warn(msg)\n"
     ]
    }
   ],
   "source": [
    "# STEP 6: Load ResNet18 and Modify\n",
    "model = models.resnet18(pretrained=True)\n",
    "model.fc = nn.Sequential(\n",
    "    nn.Dropout(0.5),\n",
    "    nn.Linear(model.fc.in_features, len(train_dataset.classes))  # auto-detect classes\n",
    ")\n",
    "model = model.to(device)\n"
   ]
  },
  {
   "cell_type": "code",
   "execution_count": 10,
   "id": "06b80f7f",
   "metadata": {},
   "outputs": [],
   "source": [
    "# STEP 7: Loss, Optimizer & Scheduler\n",
    "criterion = nn.CrossEntropyLoss()\n",
    "optimizer = optim.Adam(model.parameters(), lr=5e-5, weight_decay=1e-5)\n",
    "scheduler = optim.lr_scheduler.StepLR(optimizer, step_size=5, gamma=0.5)\n"
   ]
  },
  {
   "cell_type": "code",
   "execution_count": 11,
   "id": "72d43403",
   "metadata": {},
   "outputs": [
    {
     "name": "stdout",
     "output_type": "stream",
     "text": [
      "Epoch [1/20]\n",
      "🔹 Train Loss: 0.4596 | Train Acc: 87.06%\n",
      "🔸 Val Loss:   0.2690 | Val Acc:   91.62%\n",
      "\n",
      "Epoch [2/20]\n",
      "🔹 Train Loss: 0.1596 | Train Acc: 94.82%\n",
      "🔸 Val Loss:   0.2865 | Val Acc:   91.57%\n",
      "\n",
      "Epoch [3/20]\n",
      "🔹 Train Loss: 0.1110 | Train Acc: 96.19%\n",
      "🔸 Val Loss:   0.3087 | Val Acc:   92.45%\n",
      "\n",
      "Epoch [4/20]\n",
      "🔹 Train Loss: 0.0903 | Train Acc: 96.76%\n",
      "🔸 Val Loss:   0.2650 | Val Acc:   93.20%\n",
      "\n",
      "Epoch [5/20]\n",
      "🔹 Train Loss: 0.0742 | Train Acc: 97.20%\n",
      "🔸 Val Loss:   0.2593 | Val Acc:   93.58%\n",
      "\n",
      "Epoch [6/20]\n",
      "🔹 Train Loss: 0.0485 | Train Acc: 98.08%\n",
      "🔸 Val Loss:   0.2345 | Val Acc:   94.04%\n",
      "\n",
      "Epoch [7/20]\n",
      "🔹 Train Loss: 0.0429 | Train Acc: 98.21%\n",
      "🔸 Val Loss:   0.2599 | Val Acc:   94.12%\n",
      "\n",
      "Epoch [8/20]\n",
      "🔹 Train Loss: 0.0399 | Train Acc: 98.31%\n",
      "🔸 Val Loss:   0.2672 | Val Acc:   93.76%\n",
      "\n",
      "Epoch [9/20]\n",
      "🔹 Train Loss: 0.0382 | Train Acc: 98.33%\n",
      "🔸 Val Loss:   0.3136 | Val Acc:   91.87%\n",
      "\n",
      "Epoch [10/20]\n",
      "🔹 Train Loss: 0.0334 | Train Acc: 98.52%\n",
      "🔸 Val Loss:   0.2906 | Val Acc:   93.37%\n",
      "\n",
      "Epoch [11/20]\n",
      "🔹 Train Loss: 0.0283 | Train Acc: 98.66%\n",
      "🔸 Val Loss:   0.2766 | Val Acc:   93.77%\n",
      "\n",
      "Epoch [12/20]\n",
      "🔹 Train Loss: 0.0244 | Train Acc: 98.81%\n",
      "🔸 Val Loss:   0.2672 | Val Acc:   93.74%\n",
      "\n",
      "Epoch [13/20]\n",
      "🔹 Train Loss: 0.0257 | Train Acc: 98.80%\n",
      "🔸 Val Loss:   0.2929 | Val Acc:   93.92%\n",
      "\n",
      "Epoch [14/20]\n",
      "🔹 Train Loss: 0.0225 | Train Acc: 98.84%\n",
      "🔸 Val Loss:   0.2881 | Val Acc:   93.45%\n",
      "\n",
      "Epoch [15/20]\n",
      "🔹 Train Loss: 0.0227 | Train Acc: 98.86%\n",
      "🔸 Val Loss:   0.3383 | Val Acc:   92.96%\n",
      "\n",
      "Epoch [16/20]\n",
      "🔹 Train Loss: 0.0204 | Train Acc: 98.97%\n",
      "🔸 Val Loss:   0.2889 | Val Acc:   94.22%\n",
      "\n",
      "Epoch [17/20]\n",
      "🔹 Train Loss: 0.0195 | Train Acc: 98.96%\n",
      "🔸 Val Loss:   0.3228 | Val Acc:   94.16%\n",
      "\n",
      "Epoch [18/20]\n",
      "🔹 Train Loss: 0.0201 | Train Acc: 98.89%\n",
      "🔸 Val Loss:   0.3398 | Val Acc:   93.64%\n",
      "\n",
      "Epoch [19/20]\n",
      "🔹 Train Loss: 0.0189 | Train Acc: 99.01%\n",
      "🔸 Val Loss:   0.3213 | Val Acc:   94.09%\n",
      "\n",
      "Epoch [20/20]\n",
      "🔹 Train Loss: 0.0189 | Train Acc: 98.99%\n",
      "🔸 Val Loss:   0.3256 | Val Acc:   94.11%\n",
      "\n",
      "\n",
      "✅ Training Time: 70.06 minutes\n"
     ]
    }
   ],
   "source": [
    "# STEP 8: Training Loop with Metrics\n",
    "num_epochs = 20\n",
    "start = time.time()\n",
    "\n",
    "train_losses, val_losses = [], []\n",
    "train_accuracies, val_accuracies = [], []\n",
    "\n",
    "for epoch in range(num_epochs):\n",
    "    model.train()\n",
    "    train_loss, train_correct, train_total = 0.0, 0, 0\n",
    "\n",
    "    for images, labels in train_loader:\n",
    "        images, labels = images.to(device), labels.to(device)\n",
    "        outputs = model(images)\n",
    "        loss = criterion(outputs, labels)\n",
    "\n",
    "        optimizer.zero_grad()\n",
    "        loss.backward()\n",
    "        optimizer.step()\n",
    "\n",
    "        train_loss += loss.item()\n",
    "        _, predicted = torch.max(outputs, 1)\n",
    "        train_correct += (predicted == labels).sum().item()\n",
    "        train_total += labels.size(0)\n",
    "\n",
    "    avg_train_loss = train_loss / len(train_loader)\n",
    "    train_acc = 100 * train_correct / train_total\n",
    "\n",
    "    model.eval()\n",
    "    val_loss, val_correct, val_total = 0.0, 0, 0\n",
    "    with torch.no_grad():\n",
    "        for images, labels in val_loader:\n",
    "            images, labels = images.to(device), labels.to(device)\n",
    "            outputs = model(images)\n",
    "            loss = criterion(outputs, labels)\n",
    "\n",
    "            val_loss += loss.item()\n",
    "            _, predicted = torch.max(outputs, 1)\n",
    "            val_correct += (predicted == labels).sum().item()\n",
    "            val_total += labels.size(0)\n",
    "\n",
    "    avg_val_loss = val_loss / len(val_loader)\n",
    "    val_acc = 100 * val_correct / val_total\n",
    "\n",
    "    train_losses.append(avg_train_loss)\n",
    "    val_losses.append(avg_val_loss)\n",
    "    train_accuracies.append(train_acc)\n",
    "    val_accuracies.append(val_acc)\n",
    "\n",
    "    print(f\"Epoch [{epoch+1}/{num_epochs}]\")\n",
    "    print(f\"🔹 Train Loss: {avg_train_loss:.4f} | Train Acc: {train_acc:.2f}%\")\n",
    "    print(f\"🔸 Val Loss:   {avg_val_loss:.4f} | Val Acc:   {val_acc:.2f}%\\n\")\n",
    "\n",
    "    scheduler.step()\n",
    "\n",
    "print(f\"\\n✅ Training Time: {(time.time() - start)/60:.2f} minutes\")\n"
   ]
  },
  {
   "cell_type": "code",
   "execution_count": 12,
   "id": "050f8e2d",
   "metadata": {},
   "outputs": [
    {
     "name": "stdout",
     "output_type": "stream",
     "text": [
      "💾 Model saved as resnet18_dataset_split_trained.pth\n"
     ]
    }
   ],
   "source": [
    "# STEP 9: Save Model\n",
    "torch.save(model.state_dict(), \"optimized_resnet.pth\")\n",
    "print(\"💾 Model saved as resnet18_dataset_split_trained.pth\")\n"
   ]
  },
  {
   "cell_type": "code",
   "execution_count": 13,
   "id": "eb12c738",
   "metadata": {},
   "outputs": [
    {
     "data": {
      "image/png": "[encoded data removed]",
      "text/plain": [
       "<Figure size 1200x500 with 2 Axes>"
      ]
     },
     "metadata": {},
     "output_type": "display_data"
    }
   ],
   "source": [
    "# STEP 10: Plot Loss & Accuracy Curves\n",
    "epochs = range(1, num_epochs + 1)\n",
    "\n",
    "plt.figure(figsize=(12, 5))\n",
    "\n",
    "# Loss Plot\n",
    "plt.subplot(1, 2, 1)\n",
    "plt.plot(epochs, train_losses, label='Train Loss', marker='o')\n",
    "plt.plot(epochs, val_losses, label='Val Loss', marker='o')\n",
    "plt.title(\"Loss vs Epoch\")\n",
    "plt.xlabel(\"Epoch\")\n",
    "plt.ylabel(\"Loss\")\n",
    "plt.grid(True)\n",
    "plt.legend()\n",
    "\n",
    "# Accuracy Plot\n",
    "plt.subplot(1, 2, 2)\n",
    "plt.plot(epochs, train_accuracies, label='Train Acc', marker='o')\n",
    "plt.plot(epochs, val_accuracies, label='Val Acc', marker='o')\n",
    "plt.title(\"Accuracy vs Epoch\")\n",
    "plt.xlabel(\"Epoch\")\n",
    "plt.ylabel(\"Accuracy (%)\")\n",
    "plt.grid(True)\n",
    "plt.legend()\n",
    "\n",
    "plt.tight_layout()\n",
    "plt.show()\n"
   ]
  },
  {
   "cell_type": "code",
   "execution_count": 2,
   "id": "660aff76",
   "metadata": {},
   "outputs": [
    {
     "name": "stderr",
     "output_type": "stream",
     "text": [
      "c:\\Users\\Jatin bagga\\Desktop\\FOOD_SPOILAGE_IR\\food\\Lib\\site-packages\\torchvision\\models\\_utils.py:208: UserWarning: The parameter 'pretrained' is deprecated since 0.13 and may be removed in the future, please use 'weights' instead.\n",
      "  warnings.warn(\n",
      "c:\\Users\\Jatin bagga\\Desktop\\FOOD_SPOILAGE_IR\\food\\Lib\\site-packages\\torchvision\\models\\_utils.py:223: UserWarning: Arguments other than a weight enum or `None` for 'weights' are deprecated since 0.13 and may be removed in the future. The current behavior is equivalent to passing `weights=None`.\n",
      "  warnings.warn(msg)\n"
     ]
    },
    {
     "data": {
      "text/plain": [
       "ResNet(\n",
       "  (conv1): Conv2d(3, 64, kernel_size=(7, 7), stride=(2, 2), padding=(3, 3), bias=False)\n",
       "  (bn1): BatchNorm2d(64, eps=1e-05, momentum=0.1, affine=True, track_running_stats=True)\n",
       "  (relu): ReLU(inplace=True)\n",
       "  (maxpool): MaxPool2d(kernel_size=3, stride=2, padding=1, dilation=1, ceil_mode=False)\n",
       "  (layer1): Sequential(\n",
       "    (0): BasicBlock(\n",
       "      (conv1): Conv2d(64, 64, kernel_size=(3, 3), stride=(1, 1), padding=(1, 1), bias=False)\n",
       "      (bn1): BatchNorm2d(64, eps=1e-05, momentum=0.1, affine=True, track_running_stats=True)\n",
       "      (relu): ReLU(inplace=True)\n",
       "      (conv2): Conv2d(64, 64, kernel_size=(3, 3), stride=(1, 1), padding=(1, 1), bias=False)\n",
       "      (bn2): BatchNorm2d(64, eps=1e-05, momentum=0.1, affine=True, track_running_stats=True)\n",
       "    )\n",
       "    (1): BasicBlock(\n",
       "      (conv1): Conv2d(64, 64, kernel_size=(3, 3), stride=(1, 1), padding=(1, 1), bias=False)\n",
       "      (bn1): BatchNorm2d(64, eps=1e-05, momentum=0.1, affine=True, track_running_stats=True)\n",
       "      (relu): ReLU(inplace=True)\n",
       "      (conv2): Conv2d(64, 64, kernel_size=(3, 3), stride=(1, 1), padding=(1, 1), bias=False)\n",
       "      (bn2): BatchNorm2d(64, eps=1e-05, momentum=0.1, affine=True, track_running_stats=True)\n",
       "    )\n",
       "  )\n",
       "  (layer2): Sequential(\n",
       "    (0): BasicBlock(\n",
       "      (conv1): Conv2d(64, 128, kernel_size=(3, 3), stride=(2, 2), padding=(1, 1), bias=False)\n",
       "      (bn1): BatchNorm2d(128, eps=1e-05, momentum=0.1, affine=True, track_running_stats=True)\n",
       "      (relu): ReLU(inplace=True)\n",
       "      (conv2): Conv2d(128, 128, kernel_size=(3, 3), stride=(1, 1), padding=(1, 1), bias=False)\n",
       "      (bn2): BatchNorm2d(128, eps=1e-05, momentum=0.1, affine=True, track_running_stats=True)\n",
       "      (downsample): Sequential(\n",
       "        (0): Conv2d(64, 128, kernel_size=(1, 1), stride=(2, 2), bias=False)\n",
       "        (1): BatchNorm2d(128, eps=1e-05, momentum=0.1, affine=True, track_running_stats=True)\n",
       "      )\n",
       "    )\n",
       "    (1): BasicBlock(\n",
       "      (conv1): Conv2d(128, 128, kernel_size=(3, 3), stride=(1, 1), padding=(1, 1), bias=False)\n",
       "      (bn1): BatchNorm2d(128, eps=1e-05, momentum=0.1, affine=True, track_running_stats=True)\n",
       "      (relu): ReLU(inplace=True)\n",
       "      (conv2): Conv2d(128, 128, kernel_size=(3, 3), stride=(1, 1), padding=(1, 1), bias=False)\n",
       "      (bn2): BatchNorm2d(128, eps=1e-05, momentum=0.1, affine=True, track_running_stats=True)\n",
       "    )\n",
       "  )\n",
       "  (layer3): Sequential(\n",
       "    (0): BasicBlock(\n",
       "      (conv1): Conv2d(128, 256, kernel_size=(3, 3), stride=(2, 2), padding=(1, 1), bias=False)\n",
       "      (bn1): BatchNorm2d(256, eps=1e-05, momentum=0.1, affine=True, track_running_stats=True)\n",
       "      (relu): ReLU(inplace=True)\n",
       "      (conv2): Conv2d(256, 256, kernel_size=(3, 3), stride=(1, 1), padding=(1, 1), bias=False)\n",
       "      (bn2): BatchNorm2d(256, eps=1e-05, momentum=0.1, affine=True, track_running_stats=True)\n",
       "      (downsample): Sequential(\n",
       "        (0): Conv2d(128, 256, kernel_size=(1, 1), stride=(2, 2), bias=False)\n",
       "        (1): BatchNorm2d(256, eps=1e-05, momentum=0.1, affine=True, track_running_stats=True)\n",
       "      )\n",
       "    )\n",
       "    (1): BasicBlock(\n",
       "      (conv1): Conv2d(256, 256, kernel_size=(3, 3), stride=(1, 1), padding=(1, 1), bias=False)\n",
       "      (bn1): BatchNorm2d(256, eps=1e-05, momentum=0.1, affine=True, track_running_stats=True)\n",
       "      (relu): ReLU(inplace=True)\n",
       "      (conv2): Conv2d(256, 256, kernel_size=(3, 3), stride=(1, 1), padding=(1, 1), bias=False)\n",
       "      (bn2): BatchNorm2d(256, eps=1e-05, momentum=0.1, affine=True, track_running_stats=True)\n",
       "    )\n",
       "  )\n",
       "  (layer4): Sequential(\n",
       "    (0): BasicBlock(\n",
       "      (conv1): Conv2d(256, 512, kernel_size=(3, 3), stride=(2, 2), padding=(1, 1), bias=False)\n",
       "      (bn1): BatchNorm2d(512, eps=1e-05, momentum=0.1, affine=True, track_running_stats=True)\n",
       "      (relu): ReLU(inplace=True)\n",
       "      (conv2): Conv2d(512, 512, kernel_size=(3, 3), stride=(1, 1), padding=(1, 1), bias=False)\n",
       "      (bn2): BatchNorm2d(512, eps=1e-05, momentum=0.1, affine=True, track_running_stats=True)\n",
       "      (downsample): Sequential(\n",
       "        (0): Conv2d(256, 512, kernel_size=(1, 1), stride=(2, 2), bias=False)\n",
       "        (1): BatchNorm2d(512, eps=1e-05, momentum=0.1, affine=True, track_running_stats=True)\n",
       "      )\n",
       "    )\n",
       "    (1): BasicBlock(\n",
       "      (conv1): Conv2d(512, 512, kernel_size=(3, 3), stride=(1, 1), padding=(1, 1), bias=False)\n",
       "      (bn1): BatchNorm2d(512, eps=1e-05, momentum=0.1, affine=True, track_running_stats=True)\n",
       "      (relu): ReLU(inplace=True)\n",
       "      (conv2): Conv2d(512, 512, kernel_size=(3, 3), stride=(1, 1), padding=(1, 1), bias=False)\n",
       "      (bn2): BatchNorm2d(512, eps=1e-05, momentum=0.1, affine=True, track_running_stats=True)\n",
       "    )\n",
       "  )\n",
       "  (avgpool): AdaptiveAvgPool2d(output_size=(1, 1))\n",
       "  (fc): Sequential(\n",
       "    (0): Dropout(p=0.5, inplace=False)\n",
       "    (1): Linear(in_features=512, out_features=26, bias=True)\n",
       "  )\n",
       ")"
      ]
     },
     "execution_count": 2,
     "metadata": {},
     "output_type": "execute_result"
    }
   ],
   "source": [
    "import torch\n",
    "import torch.nn as nn\n",
    "from torchvision import models\n",
    "\n",
    "# Class list from your project (26 categories in your case)\n",
    "class_names = ['FreshApple', 'FreshBanana', 'FreshBellpepper', 'FreshBittergroud', 'FreshCapsicum', 'FreshCarrot', 'FreshCucumber', 'FreshMango', 'FreshOkra', 'FreshOrange', 'FreshPotato', 'FreshStrawberry', 'FreshTomato',\n",
    "               'RottenApple', 'RottenBanana', 'RottenBellpepper', 'RottenBittergroud', 'RottenCapsicum', 'RottenCarrot', 'RottenCucumber', 'RottenMango', 'RottenOkra', 'RottenOrange', 'RottenPotato', 'RottenStrawberry', 'RottenTomato']\n",
    "\n",
    "# ✅ Step 2: Recreate the model exactly as trained\n",
    "model = models.resnet18(pretrained=False)\n",
    "model.fc = nn.Sequential(\n",
    "    nn.Dropout(0.5),\n",
    "    nn.Linear(model.fc.in_features, len(class_names))  # 26 classes\n",
    ")\n",
    "\n",
    "# ✅ Step 3: Load the trained weights\n",
    "model.load_state_dict(torch.load(\"best_resnet18_model.pth\", map_location='cpu'))\n",
    "model.eval()"
   ]
  },
  {
   "cell_type": "code",
   "execution_count": 3,
   "id": "95bdba91",
   "metadata": {},
   "outputs": [],
   "source": [
    "example = torch.rand(1, 3, 128, 128)\n",
    "traced_model = torch.jit.trace(model, example)\n",
    "traced_model.save(\"resnet18_traced.pt\")"
   ]
  },
  {
   "cell_type": "code",
   "execution_count": null,
   "id": "856ec4fc",
   "metadata": {},
   "outputs": [],
   "source": []
  }
 ],
 "metadata": {
  "kernelspec": {
   "display_name": "food",
   "language": "python",
   "name": "python3"
  },
  "language_info": {
   "codemirror_mode": {
    "name": "ipython",
    "version": 3
   },
   "file_extension": ".py",
   "mimetype": "text/x-python",
   "name": "python",
   "nbconvert_exporter": "python",
   "pygments_lexer": "ipython3",
   "version": "3.12.4"
  }
 },
 "nbformat": 4,
 "nbformat_minor": 5
}
